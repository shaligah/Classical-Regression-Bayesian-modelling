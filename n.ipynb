{
 "cells": [
  {
   "cell_type": "code",
   "execution_count": 1,
   "id": "01eba572",
   "metadata": {},
   "outputs": [],
   "source": [
    "#data manipulation\n",
    "import numpy as np\n",
    "import pandas as pd\n",
    "\n",
    "#data preprocessing\n",
    "import missingno as msno\n",
    "from sklearn.impute import SimpleImputer\n",
    "from sklearn.impute import KNNImputer\n",
    "import matplotlib.pyplot as plt\n",
    "from sklearn.feature_selection import SelectKBest,f_regression,chi2\n",
    "from sklearn.preprocessing import LabelEncoder\n",
    "\n",
    "#model building\n",
    "import xgboost as xgt\n",
    "from sklearn.ensemble import RandomForestRegressor\n",
    "from sklearn.model_selection import train_test_split\n",
    "from sklearn.model_selection import GridSearchCV\n",
    "\n",
    "#model evaulation\n",
    "from sklearn.metrics import r2_score\n"
   ]
  },
  {
   "cell_type": "code",
   "execution_count": 2,
   "id": "334fe4a8",
   "metadata": {},
   "outputs": [],
   "source": [
    "data = pd.read_csv('train.csv')"
   ]
  },
  {
   "cell_type": "code",
   "execution_count": 3,
   "id": "7ba2cd3c",
   "metadata": {},
   "outputs": [
    {
     "data": {
      "text/plain": [
       "object     43\n",
       "int64      35\n",
       "float64     3\n",
       "dtype: int64"
      ]
     },
     "execution_count": 3,
     "metadata": {},
     "output_type": "execute_result"
    }
   ],
   "source": [
    "data.dtypes.value_counts()"
   ]
  },
  {
   "cell_type": "code",
   "execution_count": 4,
   "id": "a0dabef5",
   "metadata": {},
   "outputs": [
    {
     "data": {
      "text/html": [
       "<div>\n",
       "<style scoped>\n",
       "    .dataframe tbody tr th:only-of-type {\n",
       "        vertical-align: middle;\n",
       "    }\n",
       "\n",
       "    .dataframe tbody tr th {\n",
       "        vertical-align: top;\n",
       "    }\n",
       "\n",
       "    .dataframe thead th {\n",
       "        text-align: right;\n",
       "    }\n",
       "</style>\n",
       "<table border=\"1\" class=\"dataframe\">\n",
       "  <thead>\n",
       "    <tr style=\"text-align: right;\">\n",
       "      <th></th>\n",
       "      <th>Id</th>\n",
       "      <th>MSSubClass</th>\n",
       "      <th>MSZoning</th>\n",
       "      <th>LotFrontage</th>\n",
       "      <th>LotArea</th>\n",
       "      <th>Street</th>\n",
       "      <th>Alley</th>\n",
       "      <th>LotShape</th>\n",
       "      <th>LandContour</th>\n",
       "      <th>Utilities</th>\n",
       "      <th>...</th>\n",
       "      <th>PoolArea</th>\n",
       "      <th>PoolQC</th>\n",
       "      <th>Fence</th>\n",
       "      <th>MiscFeature</th>\n",
       "      <th>MiscVal</th>\n",
       "      <th>MoSold</th>\n",
       "      <th>YrSold</th>\n",
       "      <th>SaleType</th>\n",
       "      <th>SaleCondition</th>\n",
       "      <th>SalePrice</th>\n",
       "    </tr>\n",
       "  </thead>\n",
       "  <tbody>\n",
       "    <tr>\n",
       "      <th>0</th>\n",
       "      <td>1</td>\n",
       "      <td>60</td>\n",
       "      <td>RL</td>\n",
       "      <td>65.0</td>\n",
       "      <td>8450</td>\n",
       "      <td>Pave</td>\n",
       "      <td>NaN</td>\n",
       "      <td>Reg</td>\n",
       "      <td>Lvl</td>\n",
       "      <td>AllPub</td>\n",
       "      <td>...</td>\n",
       "      <td>0</td>\n",
       "      <td>NaN</td>\n",
       "      <td>NaN</td>\n",
       "      <td>NaN</td>\n",
       "      <td>0</td>\n",
       "      <td>2</td>\n",
       "      <td>2008</td>\n",
       "      <td>WD</td>\n",
       "      <td>Normal</td>\n",
       "      <td>208500</td>\n",
       "    </tr>\n",
       "    <tr>\n",
       "      <th>1</th>\n",
       "      <td>2</td>\n",
       "      <td>20</td>\n",
       "      <td>RL</td>\n",
       "      <td>80.0</td>\n",
       "      <td>9600</td>\n",
       "      <td>Pave</td>\n",
       "      <td>NaN</td>\n",
       "      <td>Reg</td>\n",
       "      <td>Lvl</td>\n",
       "      <td>AllPub</td>\n",
       "      <td>...</td>\n",
       "      <td>0</td>\n",
       "      <td>NaN</td>\n",
       "      <td>NaN</td>\n",
       "      <td>NaN</td>\n",
       "      <td>0</td>\n",
       "      <td>5</td>\n",
       "      <td>2007</td>\n",
       "      <td>WD</td>\n",
       "      <td>Normal</td>\n",
       "      <td>181500</td>\n",
       "    </tr>\n",
       "    <tr>\n",
       "      <th>2</th>\n",
       "      <td>3</td>\n",
       "      <td>60</td>\n",
       "      <td>RL</td>\n",
       "      <td>68.0</td>\n",
       "      <td>11250</td>\n",
       "      <td>Pave</td>\n",
       "      <td>NaN</td>\n",
       "      <td>IR1</td>\n",
       "      <td>Lvl</td>\n",
       "      <td>AllPub</td>\n",
       "      <td>...</td>\n",
       "      <td>0</td>\n",
       "      <td>NaN</td>\n",
       "      <td>NaN</td>\n",
       "      <td>NaN</td>\n",
       "      <td>0</td>\n",
       "      <td>9</td>\n",
       "      <td>2008</td>\n",
       "      <td>WD</td>\n",
       "      <td>Normal</td>\n",
       "      <td>223500</td>\n",
       "    </tr>\n",
       "    <tr>\n",
       "      <th>3</th>\n",
       "      <td>4</td>\n",
       "      <td>70</td>\n",
       "      <td>RL</td>\n",
       "      <td>60.0</td>\n",
       "      <td>9550</td>\n",
       "      <td>Pave</td>\n",
       "      <td>NaN</td>\n",
       "      <td>IR1</td>\n",
       "      <td>Lvl</td>\n",
       "      <td>AllPub</td>\n",
       "      <td>...</td>\n",
       "      <td>0</td>\n",
       "      <td>NaN</td>\n",
       "      <td>NaN</td>\n",
       "      <td>NaN</td>\n",
       "      <td>0</td>\n",
       "      <td>2</td>\n",
       "      <td>2006</td>\n",
       "      <td>WD</td>\n",
       "      <td>Abnorml</td>\n",
       "      <td>140000</td>\n",
       "    </tr>\n",
       "    <tr>\n",
       "      <th>4</th>\n",
       "      <td>5</td>\n",
       "      <td>60</td>\n",
       "      <td>RL</td>\n",
       "      <td>84.0</td>\n",
       "      <td>14260</td>\n",
       "      <td>Pave</td>\n",
       "      <td>NaN</td>\n",
       "      <td>IR1</td>\n",
       "      <td>Lvl</td>\n",
       "      <td>AllPub</td>\n",
       "      <td>...</td>\n",
       "      <td>0</td>\n",
       "      <td>NaN</td>\n",
       "      <td>NaN</td>\n",
       "      <td>NaN</td>\n",
       "      <td>0</td>\n",
       "      <td>12</td>\n",
       "      <td>2008</td>\n",
       "      <td>WD</td>\n",
       "      <td>Normal</td>\n",
       "      <td>250000</td>\n",
       "    </tr>\n",
       "  </tbody>\n",
       "</table>\n",
       "<p>5 rows × 81 columns</p>\n",
       "</div>"
      ],
      "text/plain": [
       "   Id  MSSubClass MSZoning  LotFrontage  LotArea Street Alley LotShape  \\\n",
       "0   1          60       RL         65.0     8450   Pave   NaN      Reg   \n",
       "1   2          20       RL         80.0     9600   Pave   NaN      Reg   \n",
       "2   3          60       RL         68.0    11250   Pave   NaN      IR1   \n",
       "3   4          70       RL         60.0     9550   Pave   NaN      IR1   \n",
       "4   5          60       RL         84.0    14260   Pave   NaN      IR1   \n",
       "\n",
       "  LandContour Utilities  ... PoolArea PoolQC Fence MiscFeature MiscVal MoSold  \\\n",
       "0         Lvl    AllPub  ...        0    NaN   NaN         NaN       0      2   \n",
       "1         Lvl    AllPub  ...        0    NaN   NaN         NaN       0      5   \n",
       "2         Lvl    AllPub  ...        0    NaN   NaN         NaN       0      9   \n",
       "3         Lvl    AllPub  ...        0    NaN   NaN         NaN       0      2   \n",
       "4         Lvl    AllPub  ...        0    NaN   NaN         NaN       0     12   \n",
       "\n",
       "  YrSold  SaleType  SaleCondition  SalePrice  \n",
       "0   2008        WD         Normal     208500  \n",
       "1   2007        WD         Normal     181500  \n",
       "2   2008        WD         Normal     223500  \n",
       "3   2006        WD        Abnorml     140000  \n",
       "4   2008        WD         Normal     250000  \n",
       "\n",
       "[5 rows x 81 columns]"
      ]
     },
     "execution_count": 4,
     "metadata": {},
     "output_type": "execute_result"
    }
   ],
   "source": [
    "data.head()"
   ]
  },
  {
   "cell_type": "code",
   "execution_count": 5,
   "id": "a227307b",
   "metadata": {},
   "outputs": [],
   "source": [
    "df_int = data.select_dtypes(include=['int64', 'float64'])"
   ]
  },
  {
   "cell_type": "code",
   "execution_count": 6,
   "id": "f266d495",
   "metadata": {},
   "outputs": [
    {
     "data": {
      "text/plain": [
       "Id                0.000000\n",
       "MSSubClass        0.000000\n",
       "LotFrontage      17.739726\n",
       "LotArea           0.000000\n",
       "OverallQual       0.000000\n",
       "OverallCond       0.000000\n",
       "YearBuilt         0.000000\n",
       "YearRemodAdd      0.000000\n",
       "MasVnrArea        0.547945\n",
       "BsmtFinSF1        0.000000\n",
       "BsmtFinSF2        0.000000\n",
       "BsmtUnfSF         0.000000\n",
       "TotalBsmtSF       0.000000\n",
       "1stFlrSF          0.000000\n",
       "2ndFlrSF          0.000000\n",
       "LowQualFinSF      0.000000\n",
       "GrLivArea         0.000000\n",
       "BsmtFullBath      0.000000\n",
       "BsmtHalfBath      0.000000\n",
       "FullBath          0.000000\n",
       "HalfBath          0.000000\n",
       "BedroomAbvGr      0.000000\n",
       "KitchenAbvGr      0.000000\n",
       "TotRmsAbvGrd      0.000000\n",
       "Fireplaces        0.000000\n",
       "GarageYrBlt       5.547945\n",
       "GarageCars        0.000000\n",
       "GarageArea        0.000000\n",
       "WoodDeckSF        0.000000\n",
       "OpenPorchSF       0.000000\n",
       "EnclosedPorch     0.000000\n",
       "3SsnPorch         0.000000\n",
       "ScreenPorch       0.000000\n",
       "PoolArea          0.000000\n",
       "MiscVal           0.000000\n",
       "MoSold            0.000000\n",
       "YrSold            0.000000\n",
       "SalePrice         0.000000\n",
       "dtype: float64"
      ]
     },
     "execution_count": 6,
     "metadata": {},
     "output_type": "execute_result"
    }
   ],
   "source": [
    "#DEALING WITH MISING VALUES\n",
    "df_int.isna().mean()*100"
   ]
  },
  {
   "cell_type": "code",
   "execution_count": 7,
   "id": "83ffe5a9",
   "metadata": {},
   "outputs": [
    {
     "data": {
      "text/plain": [
       "<AxesSubplot:>"
      ]
     },
     "execution_count": 7,
     "metadata": {},
     "output_type": "execute_result"
    },
    {
     "data": {
      "image/png": "[encoded data removed]",
      "text/plain": [
       "<Figure size 1800x720 with 2 Axes>"
      ]
     },
     "metadata": {
      "needs_background": "light"
     },
     "output_type": "display_data"
    }
   ],
   "source": [
    "msno.matrix(df_int)"
   ]
  },
  {
   "cell_type": "code",
   "execution_count": 15,
   "id": "7dec8d2a",
   "metadata": {},
   "outputs": [
    {
     "data": {
      "text/plain": [
       "Id                 0\n",
       "MSSubClass         0\n",
       "LotFrontage      259\n",
       "LotArea            0\n",
       "OverallQual        0\n",
       "OverallCond        0\n",
       "YearBuilt          0\n",
       "YearRemodAdd       0\n",
       "MasVnrArea         8\n",
       "BsmtFinSF1         0\n",
       "BsmtFinSF2         0\n",
       "BsmtUnfSF          0\n",
       "TotalBsmtSF        0\n",
       "1stFlrSF           0\n",
       "2ndFlrSF           0\n",
       "LowQualFinSF       0\n",
       "GrLivArea          0\n",
       "BsmtFullBath       0\n",
       "BsmtHalfBath       0\n",
       "FullBath           0\n",
       "HalfBath           0\n",
       "BedroomAbvGr       0\n",
       "KitchenAbvGr       0\n",
       "TotRmsAbvGrd       0\n",
       "Fireplaces         0\n",
       "GarageYrBlt       81\n",
       "GarageCars         0\n",
       "GarageArea         0\n",
       "WoodDeckSF         0\n",
       "OpenPorchSF        0\n",
       "EnclosedPorch      0\n",
       "3SsnPorch          0\n",
       "ScreenPorch        0\n",
       "PoolArea           0\n",
       "MiscVal            0\n",
       "MoSold             0\n",
       "YrSold             0\n",
       "SalePrice          0\n",
       "dtype: int64"
      ]
     },
     "execution_count": 15,
     "metadata": {},
     "output_type": "execute_result"
    }
   ],
   "source": [
    "df_int.isna().sum()"
   ]
  },
  {
   "cell_type": "code",
   "execution_count": 9,
   "id": "3c758b15",
   "metadata": {},
   "outputs": [],
   "source": [
    "#using imputation methods to fill in the missing data\n",
    "imp =SimpleImputer(strategy='mean')\n",
    "m_imp = df_int.copy()\n",
    "m_imp.loc[:,:] = imp.fit_transform(m_imp.loc[:,:])"
   ]
  },
  {
   "cell_type": "code",
   "execution_count": 10,
   "id": "ecc1465d",
   "metadata": {},
   "outputs": [],
   "source": [
    "imp_2 = KNNImputer(n_neighbors = 2)\n",
    "knn_imp = df_int.copy()\n",
    "knn_imp.loc[:,:]=imp_2.fit_transform(knn_imp.loc[:,:])"
   ]
  },
  {
   "cell_type": "code",
   "execution_count": 11,
   "id": "83bdaf53",
   "metadata": {},
   "outputs": [],
   "source": [
    "imputations = {'mean imputations': m_imp,\n",
    "             'knn imputations': knn_imp}"
   ]
  },
  {
   "cell_type": "code",
   "execution_count": 12,
   "id": "cf6ef7f5",
   "metadata": {},
   "outputs": [
    {
     "data": {
      "image/png": "[encoded data removed]",
      "text/plain": [
       "<Figure size 1080x576 with 2 Axes>"
      ]
     },
     "metadata": {
      "needs_background": "light"
     },
     "output_type": "display_data"
    }
   ],
   "source": [
    "#visualizing how imputed data resembles original data\n",
    "fig, ax = plt.subplots(nrows = 1, ncols = 2, figsize=(15,8))\n",
    "for ax, key in zip(ax.flatten(), imputations):\n",
    "    imputations[key].hist(\"LotFrontage\", bins=30, ax=ax, alpha=1)\n",
    "    df_int.hist(\"LotFrontage\",bins=30, ax=ax)\n",
    "    ax.set_title(key)\n",
    "    plt.tight_layout()"
   ]
  },
  {
   "cell_type": "markdown",
   "id": "0ec921b5",
   "metadata": {},
   "source": [
    "The orange histograms represent the original data while the blue histograms represent the imputed data. From the graphs ot can be noticed that the missing data that was imputd using k-nearest neighbours followed the pattern of the original data unlike that using mean imputations."
   ]
  },
  {
   "cell_type": "code",
   "execution_count": 13,
   "id": "790da3f9",
   "metadata": {},
   "outputs": [],
   "source": [
    "df_cat = data.select_dtypes(include='object')"
   ]
  },
  {
   "cell_type": "code",
   "execution_count": 14,
   "id": "d1f2d9d7",
   "metadata": {},
   "outputs": [
    {
     "data": {
      "text/plain": [
       "MSZoning          0.000000\n",
       "Street            0.000000\n",
       "Alley            93.767123\n",
       "LotShape          0.000000\n",
       "LandContour       0.000000\n",
       "Utilities         0.000000\n",
       "LotConfig         0.000000\n",
       "LandSlope         0.000000\n",
       "Neighborhood      0.000000\n",
       "Condition1        0.000000\n",
       "Condition2        0.000000\n",
       "BldgType          0.000000\n",
       "HouseStyle        0.000000\n",
       "RoofStyle         0.000000\n",
       "RoofMatl          0.000000\n",
       "Exterior1st       0.000000\n",
       "Exterior2nd       0.000000\n",
       "MasVnrType        0.547945\n",
       "ExterQual         0.000000\n",
       "ExterCond         0.000000\n",
       "Foundation        0.000000\n",
       "BsmtQual          2.534247\n",
       "BsmtCond          2.534247\n",
       "BsmtExposure      2.602740\n",
       "BsmtFinType1      2.534247\n",
       "BsmtFinType2      2.602740\n",
       "Heating           0.000000\n",
       "HeatingQC         0.000000\n",
       "CentralAir        0.000000\n",
       "Electrical        0.068493\n",
       "KitchenQual       0.000000\n",
       "Functional        0.000000\n",
       "FireplaceQu      47.260274\n",
       "GarageType        5.547945\n",
       "GarageFinish      5.547945\n",
       "GarageQual        5.547945\n",
       "GarageCond        5.547945\n",
       "PavedDrive        0.000000\n",
       "PoolQC           99.520548\n",
       "Fence            80.753425\n",
       "MiscFeature      96.301370\n",
       "SaleType          0.000000\n",
       "SaleCondition     0.000000\n",
       "dtype: float64"
      ]
     },
     "execution_count": 14,
     "metadata": {},
     "output_type": "execute_result"
    }
   ],
   "source": [
    "df_cat.isna().mean()*100"
   ]
  },
  {
   "cell_type": "code",
   "execution_count": 16,
   "id": "81f84c03",
   "metadata": {},
   "outputs": [
    {
     "data": {
      "text/plain": [
       "MSZoning            0\n",
       "Street              0\n",
       "Alley            1369\n",
       "LotShape            0\n",
       "LandContour         0\n",
       "Utilities           0\n",
       "LotConfig           0\n",
       "LandSlope           0\n",
       "Neighborhood        0\n",
       "Condition1          0\n",
       "Condition2          0\n",
       "BldgType            0\n",
       "HouseStyle          0\n",
       "RoofStyle           0\n",
       "RoofMatl            0\n",
       "Exterior1st         0\n",
       "Exterior2nd         0\n",
       "MasVnrType          8\n",
       "ExterQual           0\n",
       "ExterCond           0\n",
       "Foundation          0\n",
       "BsmtQual           37\n",
       "BsmtCond           37\n",
       "BsmtExposure       38\n",
       "BsmtFinType1       37\n",
       "BsmtFinType2       38\n",
       "Heating             0\n",
       "HeatingQC           0\n",
       "CentralAir          0\n",
       "Electrical          1\n",
       "KitchenQual         0\n",
       "Functional          0\n",
       "FireplaceQu       690\n",
       "GarageType         81\n",
       "GarageFinish       81\n",
       "GarageQual         81\n",
       "GarageCond         81\n",
       "PavedDrive          0\n",
       "PoolQC           1453\n",
       "Fence            1179\n",
       "MiscFeature      1406\n",
       "SaleType            0\n",
       "SaleCondition       0\n",
       "dtype: int64"
      ]
     },
     "execution_count": 16,
     "metadata": {},
     "output_type": "execute_result"
    }
   ],
   "source": [
    "df_cat.isna().sum()"
   ]
  },
  {
   "cell_type": "code",
   "execution_count": 17,
   "id": "c2590ee2",
   "metadata": {},
   "outputs": [
    {
     "data": {
      "text/plain": [
       "<AxesSubplot:>"
      ]
     },
     "execution_count": 17,
     "metadata": {},
     "output_type": "execute_result"
    },
    {
     "data": {
      "image/png": "[encoded data removed]",
      "text/plain": [
       "<Figure size 1800x720 with 2 Axes>"
      ]
     },
     "metadata": {
      "needs_background": "light"
     },
     "output_type": "display_data"
    }
   ],
   "source": [
    "msno.matrix(df_cat)"
   ]
  },
  {
   "cell_type": "code",
   "execution_count": 18,
   "id": "0ec7df03",
   "metadata": {},
   "outputs": [],
   "source": [
    "df_cat.drop(columns=['Alley', 'PoolQC', 'Fence','MiscFeature','FireplaceQu'], inplace=True)"
   ]
  },
  {
   "cell_type": "code",
   "execution_count": 19,
   "id": "0de10924",
   "metadata": {},
   "outputs": [],
   "source": [
    "df_cat['Electrical'] = df_cat['Electrical'].fillna(df_cat['Electrical'].mode()[0])"
   ]
  },
  {
   "cell_type": "code",
   "execution_count": 20,
   "id": "15e14777",
   "metadata": {},
   "outputs": [],
   "source": [
    "df_cat['MasVnrType'] = df_cat['MasVnrType'].fillna(df_cat['MasVnrType'].mode()[0])"
   ]
  },
  {
   "cell_type": "code",
   "execution_count": 21,
   "id": "8b449c77",
   "metadata": {},
   "outputs": [],
   "source": [
    "#using a unique value to represent the remaining missing values to maintain the originality of the data\n",
    "df_cat = df_cat.fillna('Unknown')"
   ]
  },
  {
   "cell_type": "code",
   "execution_count": 22,
   "id": "a1a88e61",
   "metadata": {},
   "outputs": [],
   "source": [
    "#using a labelencoder to transform categorical variables into numerical variables for model\n",
    "copy = df_cat.copy()\n",
    "enc = LabelEncoder()\n",
    "for col in copy.columns:\n",
    "    copy[col] = enc.fit_transform(copy[col])"
   ]
  },
  {
   "cell_type": "markdown",
   "id": "639be7e1",
   "metadata": {},
   "source": [
    "# MODEL BUILDING WITHOUT FEATURE SELECTION"
   ]
  },
  {
   "cell_type": "code",
   "execution_count": 23,
   "id": "7a7bfcb0",
   "metadata": {},
   "outputs": [],
   "source": [
    "X,y = knn_imp.loc[:,df_int.columns!='SalePrice'],knn_imp.loc[:,'SalePrice']"
   ]
  },
  {
   "cell_type": "code",
   "execution_count": 24,
   "id": "a68882e1",
   "metadata": {},
   "outputs": [],
   "source": [
    "new_d = pd.concat([X, copy], axis=1)"
   ]
  },
  {
   "cell_type": "code",
   "execution_count": 25,
   "id": "348995f2",
   "metadata": {},
   "outputs": [],
   "source": [
    "#splitting the data into training and validation for model building and evaluation  \n",
    "X_train, X_test, y_train, y_test = train_test_split(new_d, y, test_size=0.3, random_state=42)"
   ]
  },
  {
   "cell_type": "code",
   "execution_count": 26,
   "id": "e4c67797",
   "metadata": {},
   "outputs": [
    {
     "data": {
      "text/plain": [
       "XGBRegressor(base_score=None, booster=None, callbacks=None,\n",
       "             colsample_bylevel=None, colsample_bynode=None,\n",
       "             colsample_bytree=None, early_stopping_rounds=None,\n",
       "             enable_categorical=False, eval_metric=None, feature_types=None,\n",
       "             gamma=None, gpu_id=None, grow_policy=None, importance_type=None,\n",
       "             interaction_constraints=None, learning_rate=None, max_bin=None,\n",
       "             max_cat_threshold=None, max_cat_to_onehot=None,\n",
       "             max_delta_step=None, max_depth=None, max_leaves=None,\n",
       "             min_child_weight=None, missing=nan, monotone_constraints=None,\n",
       "             n_estimators=100, n_jobs=None, num_parallel_tree=None,\n",
       "             predictor=None, random_state=42, ...)"
      ]
     },
     "execution_count": 26,
     "metadata": {},
     "output_type": "execute_result"
    }
   ],
   "source": [
    "model = xgt.XGBRegressor(random_state=42)\n",
    "model.fit(X_train, y_train)"
   ]
  },
  {
   "cell_type": "code",
   "execution_count": 27,
   "id": "d0084139",
   "metadata": {},
   "outputs": [],
   "source": [
    " m = model.predict(X_test)"
   ]
  },
  {
   "cell_type": "code",
   "execution_count": 28,
   "id": "521b0f5f",
   "metadata": {},
   "outputs": [
    {
     "data": {
      "text/plain": [
       "0.8940924685771732"
      ]
     },
     "execution_count": 28,
     "metadata": {},
     "output_type": "execute_result"
    }
   ],
   "source": [
    "r2_score(y_test,m)"
   ]
  },
  {
   "cell_type": "code",
   "execution_count": 29,
   "id": "4b88d10c",
   "metadata": {},
   "outputs": [
    {
     "data": {
      "text/plain": [
       "RandomForestRegressor()"
      ]
     },
     "execution_count": 29,
     "metadata": {},
     "output_type": "execute_result"
    }
   ],
   "source": [
    "model2 = RandomForestRegressor()\n",
    "model2.fit(X_train, y_train)"
   ]
  },
  {
   "cell_type": "code",
   "execution_count": 30,
   "id": "b315809c",
   "metadata": {},
   "outputs": [],
   "source": [
    "n = model2.predict(X_test)"
   ]
  },
  {
   "cell_type": "code",
   "execution_count": 31,
   "id": "a52f4fba",
   "metadata": {},
   "outputs": [
    {
     "data": {
      "text/plain": [
       "0.8941985945564279"
      ]
     },
     "execution_count": 31,
     "metadata": {},
     "output_type": "execute_result"
    }
   ],
   "source": [
    "r2_score(y_test, n)"
   ]
  },
  {
   "cell_type": "markdown",
   "id": "ab8439ee",
   "metadata": {},
   "source": [
    "# MODEL BUILDING WITH FEATURE SELECTION"
   ]
  },
  {
   "cell_type": "markdown",
   "id": "60eaa2b8",
   "metadata": {},
   "source": [
    "selecting features for numerical variables"
   ]
  },
  {
   "cell_type": "code",
   "execution_count": 32,
   "id": "0590d5ca",
   "metadata": {},
   "outputs": [],
   "source": [
    "selector =  SelectKBest(f_regression,k='all')\n",
    "X_int =selector.fit_transform(X,y)"
   ]
  },
  {
   "cell_type": "code",
   "execution_count": 33,
   "id": "4573580f",
   "metadata": {},
   "outputs": [
    {
     "name": "stdout",
     "output_type": "stream",
     "text": [
      "       Feat_names     F_Scores\n",
      "4     OverallQual  2436.770591\n",
      "16      GrLivArea  1470.585010\n",
      "26     GarageCars  1013.705666\n",
      "27     GarageArea   926.951287\n",
      "12    TotalBsmtSF   880.341282\n",
      "13       1stFlrSF   845.524488\n",
      "19       FullBath   668.430296\n",
      "23   TotRmsAbvGrd   580.762801\n",
      "6       YearBuilt   548.665821\n",
      "25    GarageYrBlt   508.280075\n",
      "7    YearRemodAdd   504.714855\n",
      "8      MasVnrArea   436.672173\n",
      "24     Fireplaces   406.503866\n",
      "9      BsmtFinSF1   255.923517\n",
      "2     LotFrontage   196.862615\n",
      "28     WoodDeckSF   171.494673\n",
      "14       2ndFlrSF   165.561151\n",
      "29    OpenPorchSF   161.577391\n",
      "20       HalfBath   128.018964\n",
      "3         LotArea   109.090355\n",
      "17   BsmtFullBath    79.300912\n",
      "11      BsmtUnfSF    70.303948\n",
      "21   BedroomAbvGr    42.456412\n",
      "22   KitchenAbvGr    27.437234\n",
      "30  EnclosedPorch    24.509275\n",
      "32    ScreenPorch    18.336600\n",
      "33       PoolArea    12.556221\n",
      "1      MSSubClass    10.431466\n",
      "5     OverallCond     8.891623\n",
      "35         MoSold     3.150172\n",
      "31      3SsnPorch     2.903843\n",
      "36         YrSold     1.220661\n",
      "15   LowQualFinSF     0.956600\n",
      "0              Id     0.700676\n",
      "34        MiscVal     0.654934\n",
      "18   BsmtHalfBath     0.413789\n",
      "10     BsmtFinSF2     0.188780\n"
     ]
    }
   ],
   "source": [
    "names = X.columns.values[selector.get_support()]\n",
    "scores = selector.scores_[selector.get_support()]\n",
    "names_scores = list(zip(names, scores))\n",
    "ns_df = pd.DataFrame(data = names_scores, columns=['Feat_names', 'F_Scores'])\n",
    "ns_df_sorted = ns_df.sort_values(['F_Scores', 'Feat_names'], ascending = [False, True])\n",
    "print(ns_df_sorted)"
   ]
  },
  {
   "cell_type": "code",
   "execution_count": 34,
   "id": "3d90f65c",
   "metadata": {},
   "outputs": [
    {
     "data": {
      "text/plain": [
       "(1460, 20)"
      ]
     },
     "execution_count": 34,
     "metadata": {},
     "output_type": "execute_result"
    }
   ],
   "source": [
    "#removing nunmerical variables for model buidling with F_score<10\n",
    "selector3 = SelectKBest(f_regression, k=20)\n",
    "X2 = selector3.fit_transform(X,y)\n",
    "names3 = X.columns.values[selector3.get_support()]\n",
    "fea_int = X.loc[:,names3]\n",
    "fea_int.shape"
   ]
  },
  {
   "cell_type": "markdown",
   "id": "9bac3eca",
   "metadata": {},
   "source": [
    "FEATURE SELECTION FOR CATEGORICAL VARIABLES"
   ]
  },
  {
   "cell_type": "code",
   "execution_count": 35,
   "id": "62920c8f",
   "metadata": {},
   "outputs": [],
   "source": [
    "selector2 =  SelectKBest(chi2,k='all')\n",
    "X_cat =selector2.fit_transform(copy,y)"
   ]
  },
  {
   "cell_type": "code",
   "execution_count": 36,
   "id": "cc85a5d0",
   "metadata": {},
   "outputs": [
    {
     "name": "stdout",
     "output_type": "stream",
     "text": [
      "       Feat_names     F_Scores\n",
      "7    Neighborhood  2194.267106\n",
      "10       BldgType  1951.478245\n",
      "26      HeatingQC  1483.144925\n",
      "31     GarageType  1264.929866\n",
      "6       LandSlope   889.793781\n",
      "23   BsmtFinType1   836.377738\n",
      "11     HouseStyle   812.887720\n",
      "15    Exterior2nd   808.619925\n",
      "2        LotShape   802.972897\n",
      "14    Exterior1st   696.025906\n",
      "32   GarageFinish   600.010191\n",
      "5       LotConfig   564.633630\n",
      "22   BsmtExposure   466.596456\n",
      "20       BsmtQual   367.698026\n",
      "12      RoofStyle   356.053615\n",
      "29    KitchenQual   303.823780\n",
      "19     Foundation   302.333392\n",
      "4       Utilities   242.333333\n",
      "13       RoofMatl   229.029740\n",
      "28     Electrical   213.371047\n",
      "8      Condition1   212.616289\n",
      "37  SaleCondition   212.586578\n",
      "17      ExterQual   209.777237\n",
      "36       SaleType   187.470404\n",
      "16     MasVnrType   161.240019\n",
      "3     LandContour   124.357379\n",
      "24   BsmtFinType2   118.159077\n",
      "0        MSZoning   113.803139\n",
      "21       BsmtCond   108.800850\n",
      "30     Functional    97.519754\n",
      "35     PavedDrive    93.289255\n",
      "18      ExterCond    87.769596\n",
      "25        Heating    67.613241\n",
      "33     GarageQual    66.572432\n",
      "27     CentralAir    53.802335\n",
      "34     GarageCond    46.513997\n",
      "9      Condition2    27.336481\n",
      "1          Street     3.650601\n"
     ]
    }
   ],
   "source": [
    "names2 = copy.columns.values[selector2.get_support()]\n",
    "scores2 = selector2.scores_[selector2.get_support()]\n",
    "names_scores2 = list(zip(names2, scores2))\n",
    "ns_df2 = pd.DataFrame(data = names_scores2, columns=['Feat_names', 'F_Scores'])\n",
    "ns_df_sorted2 = ns_df2.sort_values(['F_Scores', 'Feat_names'], ascending = [False, True])\n",
    "print(ns_df_sorted2)"
   ]
  },
  {
   "cell_type": "code",
   "execution_count": 37,
   "id": "78211cb4",
   "metadata": {},
   "outputs": [
    {
     "data": {
      "text/plain": [
       "(1460, 37)"
      ]
     },
     "execution_count": 37,
     "metadata": {},
     "output_type": "execute_result"
    }
   ],
   "source": [
    "#removing variables with F-score <10\n",
    "selector4 =  SelectKBest(chi2,k=37)\n",
    "X_cat =selector4.fit_transform(copy,y)\n",
    "names4 = copy.columns.values[selector4.get_support()]\n",
    "fea_cat = copy.loc[:,names4]\n",
    "fea_cat.shape"
   ]
  },
  {
   "cell_type": "code",
   "execution_count": 39,
   "id": "1f2af69d",
   "metadata": {},
   "outputs": [],
   "source": [
    "m_data = pd.concat([fea_int, fea_cat], axis=1)"
   ]
  },
  {
   "cell_type": "code",
   "execution_count": 40,
   "id": "1994e7af",
   "metadata": {},
   "outputs": [],
   "source": [
    " X_train1, X_test1, y_train1, y_test1 = train_test_split(m_data, y, test_size=0.3, random_state=42)"
   ]
  },
  {
   "cell_type": "code",
   "execution_count": 41,
   "id": "10cea6c0",
   "metadata": {},
   "outputs": [
    {
     "name": "stdout",
     "output_type": "stream",
     "text": [
      "[16:35:36] WARNING: C:/buildkite-agent/builds/buildkite-windows-cpu-autoscaling-group-i-08de971ced8a8cdc6-1/xgboost/xgboost-ci-windows/src/objective/regression_obj.cu:213: reg:linear is now deprecated in favor of reg:squarederror.\n"
     ]
    },
    {
     "data": {
      "text/plain": [
       "XGBRegressor(base_score=None, booster=None, callbacks=None,\n",
       "             colsample_bylevel=None, colsample_bynode=None,\n",
       "             colsample_bytree=None, early_stopping_rounds=None,\n",
       "             enable_categorical=False, eval_metric=None, feature_types=None,\n",
       "             gamma=None, gpu_id=None, grow_policy=None, importance_type=None,\n",
       "             interaction_constraints=None, learning_rate=None, max_bin=None,\n",
       "             max_cat_threshold=None, max_cat_to_onehot=None,\n",
       "             max_delta_step=None, max_depth=None, max_leaves=None,\n",
       "             min_child_weight=None, missing=nan, monotone_constraints=None,\n",
       "             n_estimators=100, n_jobs=None, num_parallel_tree=None,\n",
       "             objective='reg:linear', predictor=None, ...)"
      ]
     },
     "execution_count": 41,
     "metadata": {},
     "output_type": "execute_result"
    }
   ],
   "source": [
    "model3 = xgt.XGBRegressor(objective='reg:linear', random_state=42)\n",
    "model3.fit(X_train1, y_train1)"
   ]
  },
  {
   "cell_type": "code",
   "execution_count": 42,
   "id": "01a59fa5",
   "metadata": {},
   "outputs": [],
   "source": [
    "pred3 = model3.predict(X_test1)"
   ]
  },
  {
   "cell_type": "code",
   "execution_count": 43,
   "id": "42ae88f4",
   "metadata": {},
   "outputs": [
    {
     "data": {
      "text/plain": [
       "0.8873711035226804"
      ]
     },
     "execution_count": 43,
     "metadata": {},
     "output_type": "execute_result"
    }
   ],
   "source": [
    "r2_score(y_test1,pred3)"
   ]
  },
  {
   "cell_type": "code",
   "execution_count": 44,
   "id": "2669e817",
   "metadata": {},
   "outputs": [
    {
     "data": {
      "text/plain": [
       "RandomForestRegressor()"
      ]
     },
     "execution_count": 44,
     "metadata": {},
     "output_type": "execute_result"
    }
   ],
   "source": [
    "model4 = RandomForestRegressor()\n",
    "model4.fit(X_train1, y_train1)"
   ]
  },
  {
   "cell_type": "code",
   "execution_count": 45,
   "id": "12070806",
   "metadata": {},
   "outputs": [],
   "source": [
    "pred4 = model4.predict(X_test1)"
   ]
  },
  {
   "cell_type": "code",
   "execution_count": 46,
   "id": "982c20dc",
   "metadata": {},
   "outputs": [
    {
     "data": {
      "text/plain": [
       "0.8996103244906528"
      ]
     },
     "execution_count": 46,
     "metadata": {},
     "output_type": "execute_result"
    }
   ],
   "source": [
    "r2_score(y_test1, pred4)"
   ]
  },
  {
   "cell_type": "markdown",
   "id": "d1e8cd5e",
   "metadata": {},
   "source": [
    "random forest regressor with selected features produced best outcome as such we would use it for prediction"
   ]
  },
  {
   "cell_type": "markdown",
   "id": "c2db43d0",
   "metadata": {},
   "source": [
    "# PREDICTIONS"
   ]
  },
  {
   "cell_type": "code",
   "execution_count": 47,
   "id": "fe87a3da",
   "metadata": {},
   "outputs": [],
   "source": [
    "test = pd.read_csv('test.csv')"
   ]
  },
  {
   "cell_type": "code",
   "execution_count": 48,
   "id": "fd234f8e",
   "metadata": {},
   "outputs": [
    {
     "data": {
      "text/plain": [
       "object     43\n",
       "int64      26\n",
       "float64    11\n",
       "dtype: int64"
      ]
     },
     "execution_count": 48,
     "metadata": {},
     "output_type": "execute_result"
    }
   ],
   "source": [
    "test.dtypes.value_counts()"
   ]
  },
  {
   "cell_type": "code",
   "execution_count": 49,
   "id": "9e37b454",
   "metadata": {},
   "outputs": [],
   "source": [
    "test_int = test.select_dtypes(include=['int64', 'float64'])"
   ]
  },
  {
   "cell_type": "code",
   "execution_count": 50,
   "id": "bc767991",
   "metadata": {},
   "outputs": [],
   "source": [
    "test_cat = test.select_dtypes(include='object')"
   ]
  },
  {
   "cell_type": "code",
   "execution_count": 70,
   "id": "0d0a2159",
   "metadata": {},
   "outputs": [
    {
     "data": {
      "text/plain": [
       "LotFrontage     0\n",
       "LotArea         0\n",
       "OverallQual     0\n",
       "YearBuilt       0\n",
       "YearRemodAdd    0\n",
       "MasVnrArea      0\n",
       "BsmtFinSF1      0\n",
       "TotalBsmtSF     0\n",
       "1stFlrSF        0\n",
       "2ndFlrSF        0\n",
       "GrLivArea       0\n",
       "FullBath        0\n",
       "HalfBath        0\n",
       "TotRmsAbvGrd    0\n",
       "Fireplaces      0\n",
       "GarageYrBlt     0\n",
       "GarageCars      0\n",
       "GarageArea      0\n",
       "WoodDeckSF      0\n",
       "OpenPorchSF     0\n",
       "dtype: int64"
      ]
     },
     "execution_count": 70,
     "metadata": {},
     "output_type": "execute_result"
    }
   ],
   "source": [
    "test_int.isnull().sum()"
   ]
  },
  {
   "cell_type": "code",
   "execution_count": 52,
   "id": "d6344d6e",
   "metadata": {},
   "outputs": [],
   "source": [
    "test_int['BsmtFinSF1'] = test_int['BsmtFinSF1'].fillna(test_int['BsmtFinSF1'].mode()[0])\n",
    "test_int['BsmtFinSF2'] = test_int['BsmtFinSF2'].fillna(test_int['BsmtFinSF2'].mode()[0])\n",
    "test_int['BsmtUnfSF'] = test_int['BsmtUnfSF'].fillna(test_int['BsmtUnfSF'].mode()[0])\n",
    "test_int['TotalBsmtSF'] = test_int['TotalBsmtSF'].fillna(test_int['TotalBsmtSF'].mode()[0])\n",
    "test_int['BsmtHalfBath'] = test_int['BsmtHalfBath'].fillna(test_int['BsmtHalfBath'].mode()[0])\n",
    "test_int['BsmtFullBath'] = test_int['BsmtFullBath'].fillna(test_int['BsmtFullBath'].mode()[0])\n",
    "test_int['GarageCars'] = test_int['GarageCars'].fillna(test_int['GarageCars'].mode()[0])\n",
    "test_int['GarageArea'] = test_int['GarageArea'].fillna(test_int['GarageArea'].mode()[0])"
   ]
  },
  {
   "cell_type": "code",
   "execution_count": 53,
   "id": "d38ce527",
   "metadata": {},
   "outputs": [],
   "source": [
    "test_int.loc[:,:] = imp_2.fit_transform(test_int.loc[:,:])"
   ]
  },
  {
   "cell_type": "code",
   "execution_count": 54,
   "id": "efdbe876",
   "metadata": {},
   "outputs": [],
   "source": [
    "test_int.drop(columns=['Id', 'MSSubClass','OverallCond','BsmtFinSF2','BsmtUnfSF','LowQualFinSF','BsmtFullBath', 'BsmtHalfBath','BedroomAbvGr', 'KitchenAbvGr','EnclosedPorch', '3SsnPorch', 'ScreenPorch', 'PoolArea','MiscVal', 'MoSold', 'YrSold'],inplace=True)"
   ]
  },
  {
   "cell_type": "code",
   "execution_count": 69,
   "id": "527ad0ef",
   "metadata": {},
   "outputs": [
    {
     "data": {
      "text/plain": [
       "MSZoning         0\n",
       "LotShape         0\n",
       "LandContour      0\n",
       "Utilities        0\n",
       "LotConfig        0\n",
       "LandSlope        0\n",
       "Neighborhood     0\n",
       "Condition1       0\n",
       "Condition2       0\n",
       "BldgType         0\n",
       "HouseStyle       0\n",
       "RoofStyle        0\n",
       "RoofMatl         0\n",
       "Exterior1st      0\n",
       "Exterior2nd      0\n",
       "MasVnrType       0\n",
       "ExterQual        0\n",
       "ExterCond        0\n",
       "Foundation       0\n",
       "BsmtQual         0\n",
       "BsmtCond         0\n",
       "BsmtExposure     0\n",
       "BsmtFinType1     0\n",
       "BsmtFinType2     0\n",
       "Heating          0\n",
       "HeatingQC        0\n",
       "CentralAir       0\n",
       "Electrical       0\n",
       "KitchenQual      0\n",
       "Functional       0\n",
       "GarageType       0\n",
       "GarageFinish     0\n",
       "GarageQual       0\n",
       "GarageCond       0\n",
       "PavedDrive       0\n",
       "SaleType         0\n",
       "SaleCondition    0\n",
       "dtype: int64"
      ]
     },
     "execution_count": 69,
     "metadata": {},
     "output_type": "execute_result"
    }
   ],
   "source": [
    "test_cat.isnull().sum()"
   ]
  },
  {
   "cell_type": "code",
   "execution_count": 56,
   "id": "484556f0",
   "metadata": {},
   "outputs": [],
   "source": [
    "test_cat.drop(columns=['Alley', 'PoolQC', 'Fence','MiscFeature','FireplaceQu'], inplace=True)"
   ]
  },
  {
   "cell_type": "code",
   "execution_count": 57,
   "id": "e9181e64",
   "metadata": {},
   "outputs": [],
   "source": [
    "test_cat['MSZoning'] = test_cat['MSZoning'].fillna(test_cat['MSZoning'].mode()[0])\n",
    "test_cat['Utilities'] = test_cat['Utilities'].fillna(test_cat['Utilities'].mode()[0])\n",
    "test_cat['Exterior1st'] = test_cat['Exterior1st'].fillna(test_cat['Exterior1st'].mode()[0])\n",
    "test_cat['Exterior2nd'] = test_cat['Exterior2nd'].fillna(test_cat['Exterior2nd'].mode()[0])\n",
    "test_cat['KitchenQual'] = test_cat['KitchenQual'].fillna(test_cat['KitchenQual'].mode()[0])\n",
    "test_cat['Functional'] = test_cat['Functional'].fillna(test_cat['Functional'].mode()[0])\n",
    "test_cat['SaleType'] = test_cat['SaleType'].fillna(test_cat['SaleType'].mode()[0])"
   ]
  },
  {
   "cell_type": "code",
   "execution_count": 58,
   "id": "c1adb162",
   "metadata": {},
   "outputs": [],
   "source": [
    "test_cat = test_cat.fillna('Unknown')"
   ]
  },
  {
   "cell_type": "code",
   "execution_count": 59,
   "id": "745e3e01",
   "metadata": {},
   "outputs": [],
   "source": [
    "for col in test_cat.columns:\n",
    "    test_cat[col] = enc.fit_transform(test_cat[col])"
   ]
  },
  {
   "cell_type": "code",
   "execution_count": 60,
   "id": "94d707b6",
   "metadata": {},
   "outputs": [],
   "source": [
    "test_cat.drop(columns='Street', inplace=True)"
   ]
  },
  {
   "cell_type": "code",
   "execution_count": 61,
   "id": "72af42bb",
   "metadata": {},
   "outputs": [],
   "source": [
    "test_data = pd.concat([test_int,test_cat], axis = 1)"
   ]
  },
  {
   "cell_type": "code",
   "execution_count": 62,
   "id": "9c81c1ac",
   "metadata": {},
   "outputs": [
    {
     "data": {
      "text/plain": [
       "(1459, 57)"
      ]
     },
     "execution_count": 62,
     "metadata": {},
     "output_type": "execute_result"
    }
   ],
   "source": [
    "test_data.shape"
   ]
  },
  {
   "cell_type": "code",
   "execution_count": 63,
   "id": "d9611c6f",
   "metadata": {},
   "outputs": [],
   "source": [
    "predicted = model4.predict(test_data)"
   ]
  },
  {
   "cell_type": "code",
   "execution_count": 64,
   "id": "da127971",
   "metadata": {},
   "outputs": [],
   "source": [
    "predicted = pd.DataFrame(predicted)"
   ]
  },
  {
   "cell_type": "code",
   "execution_count": 65,
   "id": "d67087e8",
   "metadata": {},
   "outputs": [],
   "source": [
    "predicted = predicted.rename({0:'SalePrice'},axis=1)\n"
   ]
  },
  {
   "cell_type": "code",
   "execution_count": 66,
   "id": "4acd9328",
   "metadata": {},
   "outputs": [],
   "source": [
    "predicted['Id'] = test['Id']"
   ]
  },
  {
   "cell_type": "code",
   "execution_count": 67,
   "id": "0fa8f9ae",
   "metadata": {},
   "outputs": [],
   "source": [
    "predicted = predicted[['Id','SalePrice']]"
   ]
  },
  {
   "cell_type": "code",
   "execution_count": 71,
   "id": "2dd005e0",
   "metadata": {},
   "outputs": [
    {
     "data": {
      "text/html": [
       "<div>\n",
       "<style scoped>\n",
       "    .dataframe tbody tr th:only-of-type {\n",
       "        vertical-align: middle;\n",
       "    }\n",
       "\n",
       "    .dataframe tbody tr th {\n",
       "        vertical-align: top;\n",
       "    }\n",
       "\n",
       "    .dataframe thead th {\n",
       "        text-align: right;\n",
       "    }\n",
       "</style>\n",
       "<table border=\"1\" class=\"dataframe\">\n",
       "  <thead>\n",
       "    <tr style=\"text-align: right;\">\n",
       "      <th></th>\n",
       "      <th>Id</th>\n",
       "      <th>SalePrice</th>\n",
       "    </tr>\n",
       "  </thead>\n",
       "  <tbody>\n",
       "    <tr>\n",
       "      <th>0</th>\n",
       "      <td>1461</td>\n",
       "      <td>123987.00</td>\n",
       "    </tr>\n",
       "    <tr>\n",
       "      <th>1</th>\n",
       "      <td>1462</td>\n",
       "      <td>156805.82</td>\n",
       "    </tr>\n",
       "    <tr>\n",
       "      <th>2</th>\n",
       "      <td>1463</td>\n",
       "      <td>190145.65</td>\n",
       "    </tr>\n",
       "    <tr>\n",
       "      <th>3</th>\n",
       "      <td>1464</td>\n",
       "      <td>185214.50</td>\n",
       "    </tr>\n",
       "    <tr>\n",
       "      <th>4</th>\n",
       "      <td>1465</td>\n",
       "      <td>208433.66</td>\n",
       "    </tr>\n",
       "    <tr>\n",
       "      <th>...</th>\n",
       "      <td>...</td>\n",
       "      <td>...</td>\n",
       "    </tr>\n",
       "    <tr>\n",
       "      <th>1454</th>\n",
       "      <td>2915</td>\n",
       "      <td>89056.00</td>\n",
       "    </tr>\n",
       "    <tr>\n",
       "      <th>1455</th>\n",
       "      <td>2916</td>\n",
       "      <td>90574.50</td>\n",
       "    </tr>\n",
       "    <tr>\n",
       "      <th>1456</th>\n",
       "      <td>2917</td>\n",
       "      <td>147673.50</td>\n",
       "    </tr>\n",
       "    <tr>\n",
       "      <th>1457</th>\n",
       "      <td>2918</td>\n",
       "      <td>121376.87</td>\n",
       "    </tr>\n",
       "    <tr>\n",
       "      <th>1458</th>\n",
       "      <td>2919</td>\n",
       "      <td>224390.33</td>\n",
       "    </tr>\n",
       "  </tbody>\n",
       "</table>\n",
       "<p>1459 rows × 2 columns</p>\n",
       "</div>"
      ],
      "text/plain": [
       "        Id  SalePrice\n",
       "0     1461  123987.00\n",
       "1     1462  156805.82\n",
       "2     1463  190145.65\n",
       "3     1464  185214.50\n",
       "4     1465  208433.66\n",
       "...    ...        ...\n",
       "1454  2915   89056.00\n",
       "1455  2916   90574.50\n",
       "1456  2917  147673.50\n",
       "1457  2918  121376.87\n",
       "1458  2919  224390.33\n",
       "\n",
       "[1459 rows x 2 columns]"
      ]
     },
     "execution_count": 71,
     "metadata": {},
     "output_type": "execute_result"
    }
   ],
   "source": [
    "predicted"
   ]
  }
 ],
 "metadata": {
  "kernelspec": {
   "display_name": "Python 3 (ipykernel)",
   "language": "python",
   "name": "python3"
  },
  "language_info": {
   "codemirror_mode": {
    "name": "ipython",
    "version": 3
   },
   "file_extension": ".py",
   "mimetype": "text/x-python",
   "name": "python",
   "nbconvert_exporter": "python",
   "pygments_lexer": "ipython3",
   "version": "3.9.12"
  }
 },
 "nbformat": 4,
 "nbformat_minor": 5
}
